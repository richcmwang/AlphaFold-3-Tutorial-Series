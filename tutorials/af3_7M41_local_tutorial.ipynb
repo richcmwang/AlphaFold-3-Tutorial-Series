{
 "cells": [
  {
   "cell_type": "markdown",
   "id": "ef7910d8-5a5e-4090-a447-b8c018884b80",
   "metadata": {
    "editable": true,
    "slideshow": {
     "slide_type": ""
    },
    "tags": []
   },
   "source": [
    "# Predicting Protein–Ligand Binding in 7M41 with AlphaFold 3 "
   ]
  },
  {
   "cell_type": "markdown",
   "id": "84ceedf7-f882-4154-a7f8-9a380d0e7daf",
   "metadata": {},
   "source": [
    "## Table of Contents\n",
    "\n",
    "1. Introduction\n",
    "2. Environment Setup and Installation\n",
    "3. Data Preparation\n",
    "    - 3.1 Download the Protein Sequence\n",
    "    - 3.2 Preparing the `input.json` File\n",
    "4. Running AlphaFold 3 via Docker\n",
    "5. Key Tools for Analysis\n",
    "6. pLDDT Scores\n",
    "    - 6.1 Converting mmCIF to PDB\n",
    "    - 6.2 Visualizing pLDDT Scores\n",
    "    - 6.3 Identify Residues with Low pLDDT Atoms\n",
    "    - 6.4 Why These Residues May Be Low Confidence\n",
    "7. PAE Scores\n",
    "    - 7.1 Visualizing PAE\n",
    "    - 7.2 Identifying High PAE Pairs\n",
    "8. Preparing Structures: Download, Convert, and Clean\n",
    "    - 8.1 Downloading the Experimental Structure\n",
    "    - 8.2 Cleaning Example\n",
    "9. Comparing Predicted and Experimental Structures\n",
    "    - 9.1 Aligning the Structures\n",
    "    - 9.2 Visualizing the Structures\n",
    "10. Conclusion\n"
   ]
  },
  {
   "cell_type": "markdown",
   "id": "f292b6e1-4534-4e4e-8b1d-9cf50cfbbb65",
   "metadata": {
    "editable": true,
    "slideshow": {
     "slide_type": ""
    },
    "tags": []
   },
   "source": [
    "## 1. Introduction"
   ]
  },
  {
   "cell_type": "markdown",
   "id": "0822bbf5-b97e-4f01-9082-6e5594ffec82",
   "metadata": {
    "editable": true,
    "slideshow": {
     "slide_type": ""
    },
    "tags": []
   },
   "source": [
    "In our [1ATP tutorial](./af3_1ATP_server_tutorial.ipynb), we leveraged the AlphaFold 3 public server to predict intricate 3D structures of protein-ligand complexes. This powerful tool offers remarkable insights but also has limitations. For example, the AlphaFold 3 public server restricts ligands to a predefined set of CCD codes, which can constrain analyses involving custom ligands such as 7M41. Notably, 7M41 features a non-standard small-molecule ligand (YQG) that is not included in the server’s CCD list. To fully leverage AlphaFold 3’s capabilities, including modeling custom ligands, it is necessary to run the model locally. Running AlphaFold 3 locally provides full control over input files and prediction configurations, supporting customized predictions such as analyzing non-standard ligands, using specific templates, and incorporating MSA features. A local setup also allows integration with downstream analysis tasks, enabling comparisons between predicted and experimental structures and evaluations of model confidence using metrics like pLDDT and RMSD.\n",
    "\n",
    "In this tutorial, we run AlphaFold 3 locally. We will briefly discuss how to set up the system, prepare the protein data, configure the input files, and run the model prediction in Docker. Additionally, instead of relying on ChimeraX, we dive into more granular data manipulation and visualization using Biopython, MDAnalysis, and NGLView to better understand the predicted results. We will also explore key model outputs, including the Predicted Aligned Error (PAE), Predicted Local Distance Difference Test (pLDDT) scores, and compute Root Mean Square Deviation (RMSD), to assess prediction accuracy and uncertainty. Finally, we will generate 3D alignment views to compare predicted structures with experimental data or other models.\n",
    "\n",
    "For a high-level walk-through of the AlphaFold 3 model, please refer to the dedicated [walk-through tutorial](./af3_walkthrough.ipynb)."
   ]
  },
  {
   "cell_type": "markdown",
   "id": "9a4a841e-8075-4656-b474-32cac61036fc",
   "metadata": {},
   "source": [
    "## 2. Environment Setup and Installation"
   ]
  },
  {
   "cell_type": "markdown",
   "id": "90f097e5-6047-4fe3-bec7-f98c69a61c56",
   "metadata": {},
   "source": [
    "AlphaFold 3 requires a Linux environment with Docker and a compatible NVIDIA GPU to run locally. This section covers everything you need to install and configure AlphaFold 3 on your system. Additionally, if you’re using Google Colab to analyze the outputs, there’s a quick setup step to enable interactive widgets like NGLView."
   ]
  },
  {
   "cell_type": "markdown",
   "id": "bf4a286a-428e-4917-bc1b-4f68e1912ab6",
   "metadata": {},
   "source": [
    "### 2.1. Install Docker and NVIDIA Support (Local Runs Only)\n",
    "Below are the official steps to install and configure AlphaFold 3 on your system. We recommend following the  [official installation guide](https://github.com/google-deepmind/alphafold3/blob/main/docs/installation.md#enabling-rootless-docker) for complete instructions and troubleshooting tips."
   ]
  },
  {
   "cell_type": "markdown",
   "id": "ff2a29bd-3814-442e-af38-9dc52d5ba97b",
   "metadata": {},
   "source": [
    "1. [Install docker](https://github.com/google-deepmind/alphafold3/blob/main/docs/installation.md#installing-nvidia-support-for-docker)\n",
    "2. [Enable rootless docker](https://github.com/google-deepmind/alphafold3/blob/main/docs/installation.md#enabling-rootless-docker)\n",
    "3. [Install NVIDIA GPU driver](https://github.com/google-deepmind/alphafold3/blob/main/docs/installation.md#obtaining-genetic-databases)\n",
    "4. [Set up NVIDIA Docker support](https://github.com/google-deepmind/alphafold3/blob/main/docs/installation.md#installing-nvidia-support-for-docker)\n",
    "5. [Download and configure the AlphaFold 3 database](https://github.com/google-deepmind/alphafold3/blob/main/docs/installation.md#obtaining-genetic-databases)\n",
    "6. Clone the source code:\n",
    "```bash\n",
    "   git clone https://github.com/google-deepmind/alphafold3.git\n",
    "```"
   ]
  },
  {
   "cell_type": "markdown",
   "id": "9e37f383-d7a7-4136-a8c2-6a43427afb53",
   "metadata": {},
   "source": [
    "7. [Request access to the AlphaFold 3 model parameters](https://github.com/google-deepmind/alphafold3/blob/main/docs/installation.md#obtaining-model-parameters)\n",
    "8. [Build the docker container:](https://github.com/google-deepmind/alphafold3/blob/main/docs/installation.md#obtaining-model-parameters)"
   ]
  },
  {
   "cell_type": "markdown",
   "id": "fcb3a182-f175-4bdb-8b1b-84a1eb15e2a2",
   "metadata": {},
   "source": [
    "```bash\n",
    "    docker build -t alphafold3 -f docker/Dockerfile .\n",
    "```"
   ]
  },
  {
   "cell_type": "markdown",
   "id": "781d4ca3-bd16-48a6-bf59-34d8dae89458",
   "metadata": {},
   "source": [
    "### 2.2 Check if Running in Colab\n",
    "Note: Colab is only used here for output analysis and visualization, not for running AlphaFold 3 itself."
   ]
  },
  {
   "cell_type": "code",
   "execution_count": 112,
   "id": "92372401-03fa-4ce1-8cc6-b712c9874456",
   "metadata": {},
   "outputs": [],
   "source": [
    "# Determine if the code is running in colab\n",
    "try:\n",
    "    import google.colab\n",
    "    IN_COLAB = True\n",
    "except ImportError:\n",
    "    IN_COLAB = False\n",
    "\n",
    "# Enable support for third-party Jupyter widgets (e.g. NGLView) in Colab.\n",
    "# This allows interactive visualizations to be loaded from external CDNs.\n",
    "if IN_COLAB:\n",
    "    from google.colab import output\n",
    "    output.enable_custom_widget_manager()"
   ]
  },
  {
   "cell_type": "markdown",
   "id": "c54beb2a-2eda-422d-91a2-5d109522ce29",
   "metadata": {},
   "source": [
    "### 2.3 Install Packages"
   ]
  },
  {
   "cell_type": "code",
   "execution_count": null,
   "id": "25ee203c-80c8-4f5f-aaa8-9557f91ce413",
   "metadata": {},
   "outputs": [],
   "source": [
    "# Install packages\n",
    "!pip install biopython mdanalysis numpy nglview"
   ]
  },
  {
   "cell_type": "markdown",
   "id": "248ddc5c-0d68-4c59-8fdc-066d523a4562",
   "metadata": {},
   "source": [
    "### 2.4 Download Tutorial Files"
   ]
  },
  {
   "cell_type": "code",
   "execution_count": null,
   "id": "213f627f-95ce-4a11-b40a-a82585c91bfb",
   "metadata": {},
   "outputs": [],
   "source": [
    "!rm -rf AlphaFold-3-Tutorial-Series\n",
    "!git clone https://github.com/richcmwang/AlphaFold-3-Tutorial-Series.git"
   ]
  },
  {
   "cell_type": "markdown",
   "id": "8361eebe-3a6f-4d7e-8357-725299703689",
   "metadata": {},
   "source": [
    "## 3. Data Preparation"
   ]
  },
  {
   "cell_type": "markdown",
   "id": "13e7320c-c7dc-4eab-948b-d5790dc68eeb",
   "metadata": {},
   "source": [
    "### 3.1 Download the Protein Sequence"
   ]
  },
  {
   "cell_type": "markdown",
   "id": "13b954cf-0e87-4b10-bcc0-cb32077bd9c5",
   "metadata": {},
   "source": [
    "AlphaFold 3 requires the protein sequence in FASTA format. To obtain this for 7M41 Chain A, navigate to the RCSB PDB entry for [7M41](https://www.rcsb.org/structure/7M41), and download the FASTA file with content like:\n",
    "\n",
    "```\n",
    ">7M41_1|Chains A, B|Hepatitis A virus cellular receptor 2|Homo sapiens (9606)\n",
    "SEVEYRAEVGQNAYLPCFYTPAAPGNLVPVCWGKGACPVFECGNVVLRTDERDVNYWTSRYWLNGDFRKGDVSLTIENVTLADSGIYCCRIQIPGIMNDEKFNLKLVIK\n",
    "```\n",
    "\n",
    "Copy only the sequence lines (excluding the header) into the `sequence` section of the `input.json` file, following the input setup instructions provided in the next section"
   ]
  },
  {
   "cell_type": "markdown",
   "id": "997d2980-6cd9-4b1b-8127-2defd2c78642",
   "metadata": {},
   "source": [
    "### 3.2 Preparing the `input.json` File\n",
    "The input.json file defines everything AlphaFold 3 needs to predict a structure, including protein sequences, ligands, and configuration options. To make the setup clearer, comments are included next to each input section to explain their purpose. An example input.json for 7M41 looks like this:"
   ]
  },
  {
   "cell_type": "markdown",
   "id": "99cba5f2-16c4-4583-a1aa-c982b28beded",
   "metadata": {},
   "source": [
    "```json\n",
    "{\n",
    "  \"name\": \"7M41\",                      // Job name\n",
    "\n",
    "  \"modelSeeds\": [42, 43],              // Seeds for sampling\n",
    "\n",
    "  \"sequences\": [\n",
    "    {\n",
    "      \"protein\": {\n",
    "        \"id\": [\"A\"],                   // Chain ID for the protein\n",
    "        \"sequence\": \"SEVEYRAEVGQN...\", // Protein sequence (FASTA)\n",
    "        \"unpairedMsa\": \"\",             // Leave empty if no custom MSA\n",
    "        \"pairedMsa\": \"\"                // Leave empty if no paired MSA\n",
    "      }\n",
    "    },\n",
    "    {\n",
    "      \"ligand\": {\n",
    "        \"id\": \"C\",                     // Chain ID for the ligand\n",
    "        \"ccdCodes\": [\"YQG\"]            // CCD code for the YQG molecule \n",
    "      }\n",
    "    },\n",
    "    {\n",
    "      \"ligand\": {\n",
    "        \"id\": \"D\",                     // Chain ID for a second ligand\n",
    "        \"ccdCodes\": [\"CA\"]             // CCD code for calcium ion\n",
    "      }\n",
    "    }\n",
    "  ],\n",
    "\n",
    "  \"dialect\": \"alphafold3\",             // AlphaFold 3 input format\n",
    "  \"version\": 3                         // AlphaFold version\n",
    "}\n",
    "```      "
   ]
  },
  {
   "cell_type": "markdown",
   "id": "3a2060cd-9190-4f98-bcb6-cacc09a5821e",
   "metadata": {},
   "source": [
    "Once the input.json file is set up, you’ll be ready to run AlphaFold 3 locally to generate the structure prediction."
   ]
  },
  {
   "cell_type": "markdown",
   "id": "b86539ea",
   "metadata": {},
   "source": [
    "## 4. Running AlphaFold 3 via Docker"
   ]
  },
  {
   "cell_type": "markdown",
   "id": "ff69f377-3c02-46e6-b952-db2ef1610653",
   "metadata": {},
   "source": [
    "After setting up Docker and downloading the necessary files, you can launch AlphaFold 3 using the following command. This example assumes you’ve organized your input, output, model, and database directories described in the previous section, and that you’re running on a machine with a compatible GPU:"
   ]
  },
  {
   "cell_type": "markdown",
   "id": "ebf03b1c-42f5-4009-9216-d2c6fe216bfb",
   "metadata": {},
   "source": [
    "```bash\n",
    "docker run -it \\                                # Start/run a container\n",
    "  --gpus all \\                                  # Use all GPUs\n",
    "  --volume \"$INPUT_DIR:/root/af_input\" \\        # Mount local input \n",
    "  --volume \"$OUTPUT_DIR:/root/af_output\" \\      # Mount local output \n",
    "  --volume \"$MODEL_DIR:/root/models\" \\          # Mount local model\n",
    "  --volume \"$DB_DIR:/root/public_databases\" \\   # Mount local database \n",
    "  alphafold3 \\                                  # Docker image name\n",
    "  python run_alphafold.py \\                              \n",
    "    --json_path \"/root/af_input/$INPUT_FILE\" \\  # Input path in container\n",
    "    --model_dir /root/models \\                  # Model path in container\n",
    "    --output_dir /root/af_output \\              # Output path in container\n",
    "    --run_data_pipeline=True \\                  # Enable MSA/template search \n",
    "    --flash_attention_implementation=xla        # Use XLA backend (opt) \n",
    "```"
   ]
  },
  {
   "cell_type": "markdown",
   "id": "74c3b5ba-09cf-4e97-a195-e746fc227c84",
   "metadata": {},
   "source": [
    "Some GPUs may trigger runtime errors due to attention kernel or XLA compatibility issues. These can often be resolved by using the appropriate flags. For Docker, adding `-e XLA_FLAGS=\"--xla_disable_hlo_passes=custom-kernel-fusion-rewriter\"` disables a problematic compiler pass. For Python, adding `--flash_attention_implementation=xla` selects a more compatible attention backend. If you encounter errors, check the error message to determine which flag is needed."
   ]
  },
  {
   "cell_type": "markdown",
   "id": "96afe272-75d7-4e01-9d57-5439cf087022",
   "metadata": {},
   "source": [
    "Once AlphaFold 3 predictions are complete, we can plot the confidence scores such as pLDDT and PAE to understand the model’s certainty in the predictions and then prepare them for further analysis in the steps in the next sections."
   ]
  },
  {
   "cell_type": "markdown",
   "id": "79c95cc4-a054-4ed7-a61e-d49dbe1d8158",
   "metadata": {},
   "source": [
    "## 5. Key Tools for analysis"
   ]
  },
  {
   "cell_type": "markdown",
   "id": "dc2b9128-d7a9-4ea9-bde3-43d8e96e2200",
   "metadata": {},
   "source": [
    "In this tutorial, we introduce two essential Python libraries to analyze and prepare protein–ligand structures. \n",
    "\n",
    "**Biopython** is a versatile library for reading, writing, and manipulating biological structure files such as PDB and CIF formats. We use Biopython’s PDB modules to convert predicted structures from CIF to PDB format, align the predicted structure to the experimental structure by applying appropriate rotations and translations, and save cleaned structures.\n",
    "\n",
    "**MDAnalysis** is a powerful tool for selecting, modifying, and analyzing molecular structures. We use MDAnalysis both to retrieve and plot pLDDT confidence scores from the predicted model output and to select relevant protein chains and ligands, remove irrelevant parts, and ensure that both experimental and predicted structures are ready for downstream analyses like RMSD calculation and docking."
   ]
  },
  {
   "cell_type": "markdown",
   "id": "4ce5170f-0739-4b5d-8c17-f887b5027c94",
   "metadata": {},
   "source": [
    "Run the following cell to import the required Python packages."
   ]
  },
  {
   "cell_type": "code",
   "execution_count": 60,
   "id": "fe90ae96-cd3e-4ef4-b797-4b4b3ab75b2c",
   "metadata": {},
   "outputs": [],
   "source": [
    "# Core Python\n",
    "import os                                # For file and path operations\n",
    "import numpy as np                       # For numerical calculation \n",
    "import matplotlib.pyplot as plt          # For plotting data (e.g. , pLDDT, RMSD)\n",
    "import json                              # For reading JSON file \n",
    "import pandas as pd                      # For creating dataframe\n",
    "\n",
    "# Bioinformatics tools\n",
    "from Bio.PDB import (\n",
    "    MMCIFParser,                         # Parses mmCIF files\n",
    "    PDBIO,                               # Writes PDB files\n",
    "    PDBList,                             # Fetches PDB files from the RCSB\n",
    "    PDBParser,                           # Parses PDB files\n",
    "    Superimposer                         # For aligning structures\n",
    ")\n",
    "\n",
    "# MDAnalysis\n",
    "import MDAnalysis as mda                 # For selecting and analyzing atoms, residues, chains\n",
    "from MDAnalysis.analysis import align    # For RMSD calculation and structure alignment\n",
    "\n",
    "# Visualization\n",
    "import nglview as nv                     # For interactive 3D visualization"
   ]
  },
  {
   "cell_type": "markdown",
   "id": "a890727a-41f3-42c6-8e82-b30987df6af5",
   "metadata": {},
   "source": [
    "Run the following cell to suppress irrelevant warnings"
   ]
  },
  {
   "cell_type": "code",
   "execution_count": 87,
   "id": "7fd5e995-1e12-48f4-9f5e-bf230ec801d1",
   "metadata": {},
   "outputs": [],
   "source": [
    "import warnings\n",
    "from Bio import BiopythonDeprecationWarning\n",
    "warnings.simplefilter('ignore', BiopythonDeprecationWarning)\n",
    "warnings.filterwarnings(\n",
    "    \"ignore\",\n",
    "    message=\"Found no information for attr: 'formalcharges'.*\", # Use regex to match the message\n",
    "    category=UserWarning,\n",
    "    module=\"MDAnalysis.coordinates.PDB\" # Target the specific module\n",
    ")\n",
    "warnings.filterwarnings(\n",
    "    \"ignore\",\n",
    "    message=\"Unit cell dimensions not found. CRYST1 record set to unitary values.*\",\n",
    "    category=UserWarning,\n",
    "    module=\"MDAnalysis.coordinates.PDB\"\n",
    ")"
   ]
  },
  {
   "cell_type": "markdown",
   "id": "82921aed-1b90-4181-a188-b0ef5b55c188",
   "metadata": {},
   "source": [
    "Set Working Directory"
   ]
  },
  {
   "cell_type": "code",
   "execution_count": null,
   "id": "3cfccdc6-816c-4da1-ab1f-3d4cce66c5ee",
   "metadata": {},
   "outputs": [],
   "source": [
    "os.chdir('AlphaFold-3-Tutorial-Series/tutorials')"
   ]
  },
  {
   "cell_type": "markdown",
   "id": "be1bd921-286e-433b-b452-e143a3af503e",
   "metadata": {},
   "source": [
    "## 6. pLDDT Scores"
   ]
  },
  {
   "cell_type": "markdown",
   "id": "e4204301-0012-4c83-8f01-a3e6eba847ca",
   "metadata": {},
   "source": [
    "To assess the confidence level of the AlphaFold 3 prediction, we examine the pLDDT scores.\n",
    "\n",
    "In AlphaFold 3, pLDDT is a per-atom confidence score that estimates how confidently the model predicts the local structure around each atom. It’s based on the local distance difference test (LDDT), which compares the predicted local distances from each atom to the anchor atoms (Cα for proteins) of neighboring residues. Internally, the model predicts a distribution over possible distance errors and computes the expected value as the final pLDDT score. This single value reflects how closely the predicted local structure is expected to align with experimental structures. (For further details, see Section 4.3.1 in the [Supplementary Information for AlphaFold 3](https://static-content.springer.com/esm/art%3A10.1038%2Fs41586-024-07487-w/MediaObjects/41586_2024_7487_MOESM1_ESM.pdf).)\n",
    "\n",
    "These scores are typically stored in the B-factor field of the output mmCIF file. In experimental structures, the B-factor reflects the degree of atomic displacement: lower values indicate more ordered, rigid regions, while higher values correspond to more flexible, disordered areas. In AlphaFold 3 outputs, however, the B-factor field is repurposed to store pLDDT scores.  We will use MDAnalysis to extract and plot the pLDDT values from the prediction.\n",
    "\n"
   ]
  },
  {
   "cell_type": "markdown",
   "id": "843359cf-cb6f-4aa9-8225-76689ffe0919",
   "metadata": {},
   "source": [
    "### 6.1 Converting mmCIF to PDB "
   ]
  },
  {
   "cell_type": "markdown",
   "id": "4b4a9268-aa55-4193-96ae-6a839507292d",
   "metadata": {},
   "source": [
    "Since MDAnalysis requires PDB files for parsing per-atom attributes like B-factors (which hold the pLDDT scores), we first read the predicted model CIF file using Biopython’s MMCIFParser and then save it as a PDB file in the `../data/processed` directory. This allows us to retrieve and plot the pLDDT values from the predicted model output."
   ]
  },
  {
   "cell_type": "code",
   "execution_count": 62,
   "id": "a4f85f57-8299-431d-a66d-4d488a8d1e38",
   "metadata": {},
   "outputs": [],
   "source": [
    "predicted_file = \"../data/local_output/tim3_autotemplate_rec10_model.cif\"\n",
    "predicted_pdb_file = \"../data/processed/tim3_autotemplate_rec10_model.pdb\"\n",
    "parser = MMCIFParser()\n",
    "structure = parser.get_structure('input', predicted_file)\n",
    "io = PDBIO()\n",
    "io.set_structure(structure)\n",
    "io.save(predicted_pdb_file)"
   ]
  },
  {
   "cell_type": "markdown",
   "id": "43f2c098-2bbb-465d-ac63-4e8548c038ed",
   "metadata": {},
   "source": [
    "### 6.2 Visualizing pLDDT Scores"
   ]
  },
  {
   "cell_type": "markdown",
   "id": "888e61f6-d53a-4cc0-86f9-78d6a2ec952e",
   "metadata": {},
   "source": [
    "We use the atom serial numbers from the PDB file as the x-axis when plotting pLDDT. This allows us to directly trace back to the original atoms or residues in the structure file, making it easier to investigate regions where pLDDT values are low."
   ]
  },
  {
   "cell_type": "code",
   "execution_count": 63,
   "id": "f06ecff8-90a9-44a7-af99-005f1951fd0e",
   "metadata": {},
   "outputs": [
    {
     "data": {
      "text/plain": [
       "<Figure size 800x600 with 0 Axes>"
      ]
     },
     "execution_count": 63,
     "metadata": {},
     "output_type": "execute_result"
    },
    {
     "data": {
      "text/plain": [
       "[<matplotlib.lines.Line2D at 0x7f998850e0c0>]"
      ]
     },
     "execution_count": 63,
     "metadata": {},
     "output_type": "execute_result"
    },
    {
     "data": {
      "text/plain": [
       "Text(0.5, 0, 'Atom Number')"
      ]
     },
     "execution_count": 63,
     "metadata": {},
     "output_type": "execute_result"
    },
    {
     "data": {
      "text/plain": [
       "Text(0, 0.5, 'pLDDT')"
      ]
     },
     "execution_count": 63,
     "metadata": {},
     "output_type": "execute_result"
    },
    {
     "data": {
      "text/plain": [
       "Text(0.5, 1.0, 'pLDDT Confidence Score per Residue')"
      ]
     },
     "execution_count": 63,
     "metadata": {},
     "output_type": "execute_result"
    },
    {
     "data": {
      "image/png": "[encoded data removed]",
      "text/plain": [
       "<Figure size 800x600 with 1 Axes>"
      ]
     },
     "metadata": {},
     "output_type": "display_data"
    }
   ],
   "source": [
    "predicted_model_file = \"../data/processed/tim3_autotemplate_rec10_model.pdb\"\n",
    "u = mda.Universe(predicted_model_file)\n",
    "plddt = u.atoms.tempfactors  # pLDDT stored in B-factor\n",
    "atom_ids = u.atoms.ids\n",
    "\n",
    "plt.style.use(\"ggplot\")\n",
    "plt.figure(figsize=(8, 6))\n",
    "plt.plot(atom_ids, plddt, linewidth=1.5)\n",
    "plt.xlabel(\"Atom Number\", fontsize=14)\n",
    "plt.ylabel(\"pLDDT\", fontsize=14)\n",
    "plt.title(\"pLDDT Confidence Score per Residue\", fontsize=16)\n",
    "plt.grid(True, linestyle='--', alpha=0.6)\n",
    "plt.tight_layout()\n",
    "plt.show()"
   ]
  },
  {
   "cell_type": "markdown",
   "id": "930f7709-0102-4c43-8a12-c44d2a865ee1",
   "metadata": {},
   "source": [
    "Most of the atoms have high pLDDT values. We now identify the atoms and their corresponding residues with pLDDT scores below 70."
   ]
  },
  {
   "cell_type": "markdown",
   "id": "d22f4c60-3454-481b-8116-d1b1eb67d9dd",
   "metadata": {},
   "source": [
    "### 6.3 Identify residues with low pLDDT atoms"
   ]
  },
  {
   "cell_type": "code",
   "execution_count": 64,
   "id": "d1971162-e066-45f2-9271-bfdb119623a7",
   "metadata": {},
   "outputs": [
    {
     "name": "stdout",
     "output_type": "stream",
     "text": [
      "Low-confidence atoms: [  0   4   5  11  12  13  14 198 199 395 396]\n"
     ]
    }
   ],
   "source": [
    "# find indices for atoms with low pLDDT\n",
    "low_confidence_indices = np.where(plddt < 70)[0]  # get indices of low-confidence residues\n",
    "print(\"Low-confidence atoms:\", low_confidence_indices)"
   ]
  },
  {
   "cell_type": "code",
   "execution_count": 65,
   "id": "e8788e9d-8506-439f-b1c9-89dd05d6667a",
   "metadata": {},
   "outputs": [
    {
     "name": "stdout",
     "output_type": "stream",
     "text": [
      "Atom Index: 0 | Atom Name: N | Residue: SER 1 | Chain: A\n",
      "Atom Index: 4 | Atom Name: CB | Residue: SER 1 | Chain: A\n",
      "Atom Index: 5 | Atom Name: OG | Residue: SER 1 | Chain: A\n",
      "Atom Index: 11 | Atom Name: CG | Residue: GLU 2 | Chain: A\n",
      "Atom Index: 12 | Atom Name: CD | Residue: GLU 2 | Chain: A\n",
      "Atom Index: 13 | Atom Name: OE1 | Residue: GLU 2 | Chain: A\n",
      "Atom Index: 14 | Atom Name: OE2 | Residue: GLU 2 | Chain: A\n",
      "Atom Index: 198 | Atom Name: OD1 | Residue: ASN 26 | Chain: A\n",
      "Atom Index: 199 | Atom Name: ND2 | Residue: ASN 26 | Chain: A\n",
      "Atom Index: 395 | Atom Name: NH1 | Residue: ARG 52 | Chain: A\n",
      "Atom Index: 396 | Atom Name: NH2 | Residue: ARG 52 | Chain: A\n"
     ]
    }
   ],
   "source": [
    "# show residues for these atoms\n",
    "for idx in low_confidence_indices:\n",
    "    atom = u.atoms[idx]\n",
    "    print(f\"Atom Index: {idx} | Atom Name: {atom.name} | Residue: {atom.resname} {atom.resid} | Chain: {atom.segid}\")"
   ]
  },
  {
   "cell_type": "markdown",
   "id": "eee52b8b-e2cb-494c-b57e-53724e2c209f",
   "metadata": {},
   "source": [
    "### 6.4 Why might these residues be flagged as low-confidence?"
   ]
  },
  {
   "cell_type": "markdown",
   "id": "b733ac51-ab6b-4eab-ac7c-31c035572304",
   "metadata": {},
   "source": [
    "Residues like GLU, ASN, and ARG have long, often charged or polar side chains that tend to be more disordered in protein structures. These side chains usually stick out into the solvent and can move around, which makes them harder to predict accurately. GLU and ARG are often found on the protein surface, where they interact with water, ions, or other molecules, increasing their flexibility and lowering the confidence in their exact positions. SER 1 is the first residue in the protein sequence (as confirmed from the FASTA sequence of 7M41), and low confidence here is typical because the N-terminal end of a protein is usually highly flexible and disordered."
   ]
  },
  {
   "cell_type": "markdown",
   "id": "d1baa30e-4635-4ec7-9975-283a83b58715",
   "metadata": {},
   "source": [
    "## 7. PAE Scores"
   ]
  },
  {
   "cell_type": "markdown",
   "id": "7a556d4c-6fc9-436a-bd4b-24078aa19a2c",
   "metadata": {},
   "source": [
    "PAE (Predicted Aligned Error) is a pairwise confidence measure used by AlphaFold 3 to estimate the expected error in the relative position of two residues.\n",
    "\n",
    "Specifically, for every pair of residues $(i, j)$ in the protein, the PAE score tells you how much the distance between the predicted and ground truth structures at residue $j$ might deviate (in Ångströms) if you were to align the predicted local rigid frame of residue $i$ to its ground truth frame using translation and rotation.\n",
    "\n",
    "Lower PAE values (e.g., close to 0 Å) indicate high confidence that the model has correctly predicted the distance between the two residues, while higher values (e.g., above 10 Å) indicate more uncertainty. This makes the PAE matrix a valuable tool for understanding which parts of the structure prediction are more reliable, and for identifying flexible or uncertain regions."
   ]
  },
  {
   "cell_type": "markdown",
   "id": "6997d61a-3d5e-43be-8a75-4de97c53027c",
   "metadata": {},
   "source": [
    "### 7.1 Visualizing PAE"
   ]
  },
  {
   "cell_type": "markdown",
   "id": "91aad5cc-e121-48a3-8cdc-1f0f2249193c",
   "metadata": {},
   "source": [
    "AlphaFold 3 uses different tokenization strategies for proteins and ligands. Protein residues are treated as single tokens, reflecting their repeating backbone structure. For ligands, however, AlphaFold 3 tokenizes each individual atom to capture their unique chemical features and interactions.\n",
    "\n",
    "This tokenization impacts the Predicted Aligned Error (PAE) calculations:\n",
    "\n",
    "- Protein–Protein: PAE measures alignment errors between pairs of protein residues.\n",
    "\n",
    "- Protein–Ligand: PAE includes errors between protein residues and ligand atoms.\n",
    "\n",
    "- Ligand–Ligand: PAE captures errors between pairs of ligand atoms within the same molecule.\n",
    "\n",
    "This approach provides a more granular confidence assessment for protein-ligand complexes than simply classifying an entire ligand as a single residue, as is typical in PDB files."
   ]
  },
  {
   "cell_type": "markdown",
   "id": "7a4f6fb8-37bc-42a4-85ad-5d1a5b92e1b9",
   "metadata": {},
   "source": [
    "#### 7.1.1 Sanity Check"
   ]
  },
  {
   "cell_type": "markdown",
   "id": "1d696e51-e27b-42ec-b0b0-1baceace0257",
   "metadata": {},
   "source": [
    "We'll run a quick sanity check to confirm that our interpretation of the PAE calculation aligns with the data."
   ]
  },
  {
   "cell_type": "code",
   "execution_count": 66,
   "id": "c402dcc6-80ac-49c6-8135-817f0f74cd76",
   "metadata": {},
   "outputs": [
    {
     "name": "stdout",
     "output_type": "stream",
     "text": [
      "The PAE matrix shape is 142 x 142 (number of tokens X number of tokens).\n"
     ]
    }
   ],
   "source": [
    "# Load the PAE JSON\n",
    "with open(\"../data/local_output/tim3_autotemplate_rec10_confidences.json\") as f:\n",
    "    confidence_data = json.load(f)\n",
    "\n",
    "pae = np.array(confidence_data[\"pae\"])  # AlphaFold 3 stores PAE as a 2D list\n",
    "\n",
    "print(f\"The PAE matrix shape is {pae.shape[0]} x {pae.shape[1]} (number of tokens X number of tokens).\")"
   ]
  },
  {
   "cell_type": "markdown",
   "id": "c648c2eb-ec58-4f21-af30-72668c4d31b9",
   "metadata": {},
   "source": [
    "We now verify whether the total number of tokens (from both the protein and the ligands) matches the dimensions of the PAE matrix.\n",
    "\n",
    "\n",
    "\n",
    "\n",
    "\n",
    "\n",
    "\n",
    "\n"
   ]
  },
  {
   "cell_type": "code",
   "execution_count": 67,
   "id": "4605fa2c-a054-4d5a-be94-291bc89a5fc2",
   "metadata": {},
   "outputs": [
    {
     "name": "stdout",
     "output_type": "stream",
     "text": [
      "Number of residues in Chain A: 109\n",
      "Number of atoms in YQG: 32\n",
      "Number of atoms in CA: 1\n",
      "Total number of tokens for PAE calculation should be 142\n"
     ]
    }
   ],
   "source": [
    "# Number of residues in chain A\n",
    "residues_in_chainA = u.select_atoms(\"segid A\").residues\n",
    "num_residues_chainA = len(residues_in_chainA)\n",
    "print(f\"Number of residues in Chain A: {num_residues_chainA}\")\n",
    "\n",
    "# Number of atoms in YQG\n",
    "atoms_in_YQG = u.select_atoms(\"resname YQG\")\n",
    "num_atoms_YQG = len(atoms_in_YQG)\n",
    "print(f\"Number of atoms in YQG: {num_atoms_YQG}\")\n",
    "\n",
    "# Number of atoms in CA (calcium)\n",
    "atoms_in_CA = u.select_atoms(\"resname CA\")\n",
    "num_atoms_CA = len(atoms_in_CA)\n",
    "print(f\"Number of atoms in CA: {num_atoms_CA}\")\n",
    "\n",
    "# Total Number of tokens for PAE calculation\n",
    "total_num_tokens = num_residues_chainA+num_atoms_YQG+num_atoms_CA\n",
    "print(f\"Total number of tokens for PAE calculation should be {total_num_tokens}\")"
   ]
  },
  {
   "cell_type": "markdown",
   "id": "3edcbea1-1241-4981-a4a8-d3eab2e0bce0",
   "metadata": {},
   "source": [
    "We have confirmed that total number of tokens from both protein and ligands matches the dimensions of the PAE matrix."
   ]
  },
  {
   "cell_type": "markdown",
   "id": "5427a62c-cd28-4eec-9612-aaf175928e74",
   "metadata": {},
   "source": [
    "#### 7.1.2 Generating the PAE Heatmap"
   ]
  },
  {
   "cell_type": "markdown",
   "id": "7c14f54c-3c50-4589-b4c1-e974ba8120cd",
   "metadata": {},
   "source": [
    "Run the following cell to plot PAE heatmap:"
   ]
  },
  {
   "cell_type": "code",
   "execution_count": 88,
   "id": "2f149000-2da8-4c69-ab4d-79946e68d4f1",
   "metadata": {},
   "outputs": [
    {
     "data": {
      "image/png": "[encoded data removed]",
      "text/plain": [
       "<Figure size 800x600 with 2 Axes>"
      ]
     },
     "metadata": {},
     "output_type": "display_data"
    }
   ],
   "source": [
    "# === 1. Define Chain color and label ===\n",
    "chain_color_map = {\"A\": \"lightblue\", \"C\": \"orange\", \"D\": \"black\"}\n",
    "chain_labels = {\"A\": \"A\", \"C\": \"C\", \"D\": \"D\"}\n",
    "\n",
    "# === 2. Map chain IDs to colors ===\n",
    "chain_colors = [chain_color_map[c] for c in confidence_data['token_chain_ids']]\n",
    "\n",
    "# === 3. Create the figure and axes ===\n",
    "fig, ax = plt.subplots(figsize=(8, 6))\n",
    "im = ax.imshow(pae, cmap=\"Greens_r\", vmin=0, vmax=30)\n",
    "\n",
    "# === 4. Colorbar for heat map ===\n",
    "cbar = fig.colorbar(im, ax=ax, fraction=0.046, pad=0.04)\n",
    "cbar.ax.tick_params(labelsize=10)\n",
    "cbar.set_label(\"Expected position error (Å)\", fontsize=12)\n",
    "\n",
    "# === 5. Add thicker colored bars (top and right side) ===\n",
    "bar_thickness = 1.0 \n",
    "for i, color in enumerate(chain_colors):\n",
    "    # Top bar\n",
    "    _ = ax.add_patch(\n",
    "        plt.Rectangle(\n",
    "            (i - 0.5, -2.5),  # Position (x, y)\n",
    "            1,                # Width\n",
    "            bar_thickness,    # Height\n",
    "            color=color,\n",
    "            transform=ax.transData,\n",
    "            clip_on=False\n",
    "        )\n",
    "    )\n",
    "    #  Side bar\n",
    "    _= ax.add_patch(\n",
    "        plt.Rectangle(\n",
    "            (142.5, i - 0.5),  # Adjust x-position to be outside heatmap\n",
    "            bar_thickness,     # Width\n",
    "            1,                 # Height\n",
    "            color=color,\n",
    "            transform=ax.transData,\n",
    "            clip_on=False\n",
    "        )\n",
    "    )\n",
    "\n",
    "# === 6. Add chain labels above the colored top bar ===\n",
    "start_idx = 0\n",
    "for chain_id in [\"A\", \"C\", \"D\"]:\n",
    "    count = confidence_data['token_chain_ids'].count(chain_id)\n",
    "    mid_idx = start_idx + count / 2\n",
    "    _ = ax.text(\n",
    "        mid_idx,\n",
    "        -5.0,                  # position (x, y) move farther above the bar\n",
    "        chain_labels[chain_id],\n",
    "        ha=\"center\",\n",
    "        va=\"center\",\n",
    "        fontsize=10,\n",
    "    )\n",
    "    start_idx += count\n",
    "\n",
    "# === 7. Tick foramtting =====\n",
    "tick_positions = np.arange(0, 143, 20)  # 0 to 142 (inclusive)\n",
    "tick_labels = [str(x) for x in tick_positions]\n",
    "\n",
    "# Apply to both axes (add 0.5 to center ticks on heatmap coordinates)\n",
    "_  = ax.set_xticks([x + 0.5 for x in tick_positions])  # +0.5 centers ticks\n",
    "_  = ax.set_yticks([y + 0.5 for y in tick_positions])\n",
    "_  = ax.set_xticklabels(tick_labels, rotation=0)\n",
    "_  = ax.set_yticklabels(tick_labels)\n",
    "\n",
    "# customize tikces \n",
    "ax.tick_params(axis='both', which='major', \n",
    "               length=6, width=1, direction='out', \n",
    "               colors='black', labelsize=10)\n",
    "\n",
    "# turn off grid\n",
    "ax.grid(False)\n",
    "\n",
    "# === 8. Labels and Title ===\n",
    "_ = ax.set_xlabel(\"Residue / Atom Index\", fontsize=12, labelpad=3)\n",
    "_ = ax.set_ylabel(\"Residue / Atom Index\", fontsize=12, labelpad=0)\n",
    "_ = ax.set_title(\"Predicted Aligned Error (PAE) Matrix\", fontsize=12, pad=25)\n",
    "\n",
    "#  === 9. Final layout and Display ===\n",
    "plt.tight_layout()\n",
    "plt.show()"
   ]
  },
  {
   "cell_type": "markdown",
   "id": "a9f43d28-b49d-432f-a591-0b61c031c1fc",
   "metadata": {},
   "source": [
    "Note that most PAE values are small, indicating high confidence in the relative positioning of residues. Next, we will identify pairs with high PAE values, as these may correspond to regions of local uncertainty worth investigating further."
   ]
  },
  {
   "cell_type": "markdown",
   "id": "bb2eeeb8-d101-44be-bd5d-86281067a41b",
   "metadata": {},
   "source": [
    "### 7.2 Identifying high PAE pairs"
   ]
  },
  {
   "cell_type": "code",
   "execution_count": 69,
   "id": "775c3263-9a8b-47b4-bca8-81b4f869a2c9",
   "metadata": {},
   "outputs": [],
   "source": [
    "# threshold for high PAE\n",
    "threshold = 20  \n",
    "high_pae_indices = np.argwhere(pae > threshold)"
   ]
  },
  {
   "cell_type": "markdown",
   "id": "02db4785-dbbb-4650-a77c-3768dc0f03ec",
   "metadata": {},
   "source": [
    "AlphaFold 3’s confidence JSON file includes token_res_ids, which are residue numbers specific to each chain. In multi-chain complexes, these numbers can repeat across different chains. To uniquely identify a residue within a particular chain (e.g., when using MDAnalysis), it’s necessary to use both token_res_ids and token_chain_ids from the confidence JSON file."
   ]
  },
  {
   "cell_type": "code",
   "execution_count": 70,
   "id": "823915fe-c6f9-484d-8e6d-95d4825c2bfe",
   "metadata": {},
   "outputs": [],
   "source": [
    "mda_info = {index: (chain_id, res_id) for index, (chain_id, res_id) in enumerate(\n",
    "    zip(confidence_data['token_chain_ids'], confidence_data['token_res_ids']))}"
   ]
  },
  {
   "cell_type": "markdown",
   "id": "d94426d9-30ea-4cc9-9562-a91341b9f7af",
   "metadata": {},
   "source": [
    "Store pairs with large PAE in a dataframe"
   ]
  },
  {
   "cell_type": "code",
   "execution_count": 71,
   "id": "f96af0c6-1a0c-48dd-a9da-5a0eaaa20298",
   "metadata": {},
   "outputs": [
    {
     "name": "stdout",
     "output_type": "stream",
     "text": [
      "\n",
      "Top 20 PAE Pairs\n",
      "\n",
      "Residue_1_Chain Residue_1_Name  Residue_1_Num Residue_2_Chain Residue_2_Name  Residue_2_Num  PAE_Value\n",
      "              A            SER              1               A            PRO             24      24.10\n",
      "              A            SER              1               C            YQG              1      24.10\n",
      "              A            SER              1               A            ALA             23      23.70\n",
      "              A            SER              1               A            GLY             25      23.60\n",
      "              A            SER              1               A            ASP             53      23.40\n",
      "              A            SER              1               C            YQG              1      23.10\n",
      "              A            SER              1               C            YQG              1      23.00\n",
      "              A            SER              1               C            YQG              1      23.00\n",
      "              A            SER              1               C            YQG              1      22.70\n",
      "              A            SER              1               A            ASN             26      22.60\n",
      "              A            SER              1               A            ARG             68      22.50\n",
      "              A            SER              1               C            YQG              1      22.50\n",
      "              A            SER              1               C            YQG              1      22.50\n",
      "              A            SER              1               C            YQG              1      22.30\n",
      "              A            SER              1               A            ARG             52      22.20\n",
      "              A            SER              1               C            YQG              1      22.20\n",
      "              A            SER              1               C            YQG              1      22.20\n",
      "              A            SER              1               C            YQG              1      22.10\n",
      "              A            SER              1               A            GLU             51      22.00\n",
      "              A            SER              1               C            YQG              1      22.00\n"
     ]
    }
   ],
   "source": [
    "# === 1. Collect Data for DataFrame ====\n",
    "pae_data_for_df = []\n",
    "k = 20\n",
    "\n",
    "for i, j in high_pae_indices:\n",
    "    # define the corresponding residues of i and j\n",
    "    res_i_obj = u.select_atoms(f\"resnum {mda_info[i][1]} and segid {mda_info[i][0]}\").residues[0]\n",
    "    res_j_obj = u.select_atoms(f\"resnum {mda_info[j][1]} and segid {mda_info[j][0]}\").residues[0]\n",
    "   \n",
    "    # Create a dictionary for the current row with the new column names\n",
    "    row_data = {\n",
    "        'Residue_1_Chain': res_i_obj.segid, # Added Chain for unique identification\n",
    "        'Residue_1_Name': res_i_obj.resname,\n",
    "        'Residue_1_Num': res_i_obj.resnum,\n",
    "        'Residue_2_Chain': res_j_obj.segid, # Added Chain for unique identification\n",
    "        'Residue_2_Name': res_j_obj.resname,\n",
    "        'Residue_2_Num': res_j_obj.resnum,\n",
    "        'PAE_Value': pae[i, j] # Stored as a float for numerical operations\n",
    "    }\n",
    "    pae_data_for_df.append(row_data)\n",
    "\n",
    "# === 2. Create DataFrame ===\n",
    "pae_df = pd.DataFrame(pae_data_for_df)\n",
    "\n",
    "# === 3. Sort by PAE_Value ===\n",
    "pae_df_sorted = pae_df.sort_values(by='PAE_Value', ascending=False)\n",
    "\n",
    "\n",
    "# === 4.Show top k  ===\n",
    "# to_string() prevents truncation and show two decimal places for PA\n",
    "print(f\"\\nTop {k} PAE Pairs\\n\")\n",
    "print(pae_df_sorted.head(k).to_string(index=False, float_format=\"%.2f\"))\n"
   ]
  },
  {
   "cell_type": "markdown",
   "id": "6d0c4d12-60ce-4d74-829a-9fd0a09eff8c",
   "metadata": {},
   "source": [
    "The high PAE values identified may be valuable for guiding further investigations such as focusing on these regions during experimental validation or docking analyses. For now, let’s proceed to visualizing the predicted structure and overlaying this confidence data in 3D, which can provide a more intuitive sense of where the model predicts uncertainty in the structure."
   ]
  },
  {
   "cell_type": "markdown",
   "id": "6b7623ce-9eac-49af-92b7-a4fc66407c63",
   "metadata": {},
   "source": [
    "## 8. Preparing Structures: Download, Convert, and Clean\n",
    "\n",
    "After generating the AlphaFold 3 predictions, the next step is to download the corresponding experimental structures from the PDB, convert the predicted structures from .cif to .pdb format, and clean both the experimental and predicted structures by removing irrelevant chains and heteroatoms. This ensures that the structures are ready for consistent downstream analysis.\n",
    "\n",
    "Why is cleaning necessary?\n",
    "\n",
    "Protein structures are often stored in CIF formats. However, these files can include multiple chains, non-protein entities, or other structural elements that complicate downstream analysis. For example, the experimental structure of 7M41 includes additional protein chains (such as Chain B) that are not part of the target protein-ligand complex being studied. Cleaning and preparing the structure ensures that the analysis focuses on the specific protein chain(s) and ligands relevant to the study (such as Chain A and the YQG ligand) while removing irrelevant chains. This also makes it easier to align the cleaned structure with other models or predictions, improving the accuracy of subsequent workflows—such as RMSD calculations, pocket analysis, or docking—and ensuring results are consistent and reproducible."
   ]
  },
  {
   "cell_type": "markdown",
   "id": "fbb5e9b4-5aa9-45c9-a4cd-ae86b23dee06",
   "metadata": {},
   "source": [
    "### 8.1 Downloading the Experiment Structure"
   ]
  },
  {
   "cell_type": "markdown",
   "id": "e690a915-85eb-440b-8414-386b9761e12d",
   "metadata": {},
   "source": [
    "First, download the experimental structure (7M41) from the RCSB PDB and save it in `../data/processed` in PDB format, using default name `pdb7M41.ent`."
   ]
  },
  {
   "cell_type": "code",
   "execution_count": 72,
   "id": "e7891e9b-c3dc-49b8-b30a-4f1c0fba51a4",
   "metadata": {},
   "outputs": [
    {
     "name": "stdout",
     "output_type": "stream",
     "text": [
      "Structure exists: '../data/processed/pdb7m41.ent' \n"
     ]
    },
    {
     "data": {
      "text/plain": [
       "'../data/processed/pdb7m41.ent'"
      ]
     },
     "execution_count": 72,
     "metadata": {},
     "output_type": "execute_result"
    }
   ],
   "source": [
    "pdb_id = \"7M41\"\n",
    "pdbl = PDBList()\n",
    "pdbl.retrieve_pdb_file(pdb_id, file_format=\"pdb\", pdir=\"../data/processed\")"
   ]
  },
  {
   "cell_type": "markdown",
   "id": "960cf12b-5704-4b73-9997-ee80df98f592",
   "metadata": {},
   "source": [
    "### 8.2 Cleaning Example\n",
    "\n",
    "Once the 7M41 experimental structure is downloaded and the AlphaFold 3 prediction is complete, clean both structures (predicted and experimental) by selecting only Chain A, the CA ion, and the YQG ligand. For example:"
   ]
  },
  {
   "cell_type": "code",
   "execution_count": 73,
   "id": "a4d6e22b-30c3-4f93-9c85-017048b228f4",
   "metadata": {},
   "outputs": [],
   "source": [
    "def clean_structure(input_file, output_file, chain_id=\"A\", lig_resname=\"YQG\"):\n",
    "    \"\"\"\n",
    "    Clean the given structure by selecting Chain A (default), CA ions, and the specified ligand.\n",
    "    Saves the cleaned structure to the output file.\n",
    "    \n",
    "    Parameters:\n",
    "    - input_file (str): Path to the input PDB file.\n",
    "    - output_file (str): Path to the cleaned PDB file.\n",
    "    - chain_id (str or tuple of str): The chain identifier to select \n",
    "        AlphaFold3 predicted: use (\"A\", \"C\", \"D\")\n",
    "        experimental: use default \"A\"\n",
    "    - lig_resname (str): The residue name of the ligand (default: \"YQG\").\n",
    "    \"\"\"\n",
    "    universe = mda.Universe(input_file)\n",
    "\n",
    "    if isinstance(chain_id, str):\n",
    "        # Single chain ID provided as a string\n",
    "        chain = universe.select_atoms(f\"segid {chain_id} and protein\")\n",
    "        ligand = universe.select_atoms(f\"segid {chain_id} and resname {lig_resname}\")\n",
    "        calcium = universe.select_atoms(f\"segid {chain_id} and resname CA\")\n",
    "    elif isinstance(chain_id, tuple):\n",
    "        # Tuple of chain IDs provided (protein, ligand, calcium,)\n",
    "        protein_chain, ligand_chain, calcium_chain = chain_id\n",
    "        chain = universe.select_atoms(f\"segid {protein_chain} and protein\")\n",
    "        ligand = universe.select_atoms(f\"segid {ligand_chain} and resname {lig_resname}\")\n",
    "        calcium = universe.select_atoms(f\"segid {calcium_chain} and resname CA\")   \n",
    "    else:\n",
    "        raise ValueError(\"chain_id must be a string or a tuple of strings.\") \n",
    "    \n",
    "    selection = chain + calcium + ligand\n",
    "\n",
    "    if os.path.exists(output_file):\n",
    "        os.remove(output_file)\n",
    "    \n",
    "    with mda.Writer(output_file) as writer:\n",
    "        writer.write(selection)\n",
    "    \n",
    "    print(f\"Saved '{output_file}' with Chain {chain_id}, CA ion, and {lig_resname} ligand.\")"
   ]
  },
  {
   "cell_type": "code",
   "execution_count": 74,
   "id": "2de3e27d-6923-4f13-9d8c-abd5816481c2",
   "metadata": {},
   "outputs": [
    {
     "name": "stdout",
     "output_type": "stream",
     "text": [
      "Saved '../data/processed/7m41_exp_cleaned.pdb' with Chain A, CA ion, and YQG ligand.\n"
     ]
    }
   ],
   "source": [
    "# clean 7m41 experimental structure\n",
    "input_file = \"../data/processed/pdb7m41.ent\"\n",
    "output_file = \"../data/processed/7m41_exp_cleaned.pdb\"\n",
    "clean_structure(input_file, output_file, chain_id=\"A\", lig_resname=\"YQG\")"
   ]
  },
  {
   "cell_type": "code",
   "execution_count": 75,
   "id": "d5023ef4-7236-40a1-bf3c-fa782a17fc0f",
   "metadata": {},
   "outputs": [
    {
     "name": "stdout",
     "output_type": "stream",
     "text": [
      "Saved '../data/processed/7m41_predicted_cleaned.pdb' with Chain ('A', 'C', 'D'), CA ion, and YQG ligand.\n"
     ]
    }
   ],
   "source": [
    "# clean 7m41 predicted structure\n",
    "input_file = \"../data/processed/tim3_autotemplate_rec10_model.pdb\"\n",
    "output_file = \"../data/processed/7m41_predicted_cleaned.pdb\"\n",
    "clean_structure(input_file, output_file, chain_id=(\"A\", \"C\", \"D\"), lig_resname=\"YQG\")"
   ]
  },
  {
   "cell_type": "markdown",
   "id": "ecfa654f-3973-4ee2-9a68-69b2fac69e5c",
   "metadata": {},
   "source": [
    "Note that in the experimental structure, both YQG and CA are labeled as chain A, whereas in the AlphaFold 3 prediction, they are labeled as chains C and D, respectively. This is because, in the input.json configuration for AlphaFold 3, ligands must be input as separate chains from the protein for proper structure prediction."
   ]
  },
  {
   "cell_type": "markdown",
   "id": "9c08b29e-5061-4f1b-82a0-038ce4c15430",
   "metadata": {},
   "source": [
    "## 9. Comparing Predicted and Experimental Structures"
   ]
  },
  {
   "cell_type": "markdown",
   "id": "9b224c9a-2d20-45e4-a684-ad6bf27eca35",
   "metadata": {},
   "source": [
    "In this section, we will align the predicted and experimental structures, calculate the overall RMSD, assess per-residue RMSD, and visualize the aligned structures in 3D. These steps help us evaluate the quality of the AlphaFold 3 prediction and understand how well it matches the experimental data.\n",
    "\n"
   ]
  },
  {
   "cell_type": "markdown",
   "id": "4aa7b401-3955-40f3-b071-918124a8a2a3",
   "metadata": {},
   "source": [
    "### 9.1 Aligning the predicted and experimental structures"
   ]
  },
  {
   "cell_type": "markdown",
   "id": "293a22f4-2b5a-4384-9091-4a565bee3976",
   "metadata": {},
   "source": [
    "To compare the AlphaFold 3 predicted structure with the experimental structure, it is essential to align them in the same coordinate frame. This alignment lets us assess how closely the predicted structure matches the experimental one, both globally and at the level of individual residues. We achieve this by applying a rotation and translation to the predicted structure so that its backbone atoms (usually alpha carbons) best overlap with those of the experimental structure. In this tutorial, we use Biopython to compute and apply the necessary rotation and translation matrices."
   ]
  },
  {
   "cell_type": "code",
   "execution_count": 76,
   "id": "41140d80-00f6-42e2-aff6-237c6253c6e1",
   "metadata": {},
   "outputs": [],
   "source": [
    "predicted_file = \"../data/processed/7m41_predicted_cleaned.pdb\"\n",
    "experimental_file = \"../data/processed/7m41_exp_cleaned.pdb\""
   ]
  },
  {
   "cell_type": "code",
   "execution_count": 77,
   "id": "87ff1287-debb-45fd-ab76-4795ad57a316",
   "metadata": {},
   "outputs": [],
   "source": [
    "# === 1. Parse the structures ===\n",
    "parser = PDBParser(QUIET=True)\n",
    "exp_structure = parser.get_structure(\"exp\", experimental_file)\n",
    "pred_structure = parser.get_structure(\"pred\", predicted_file)"
   ]
  },
  {
   "cell_type": "code",
   "execution_count": 78,
   "id": "275252df-86e3-42f5-ae42-04024a125e67",
   "metadata": {},
   "outputs": [],
   "source": [
    "# === 2. Select chain A ===\n",
    "exp_chain = exp_structure[0]['A']  \n",
    "pred_chain = pred_structure[0]['A']  "
   ]
  },
  {
   "cell_type": "code",
   "execution_count": 79,
   "id": "0debcdfb-57c1-400f-9a0e-4d3e4f1b9ef0",
   "metadata": {},
   "outputs": [],
   "source": [
    "# === 3. Collect protein residues located at 1–109, excluding CA (ion) and YQG (ligand) ===\n",
    "excluded_residues = ('CA', 'YQG')\n",
    "exp_residues = [\n",
    "    res for res in exp_chain \n",
    "    if 1 <= res.get_id()[1] <= 109 and res.get_resname() not in excluded_residues\n",
    "]\n",
    "pred_residues = [\n",
    "    res for res in pred_chain \n",
    "    if 1 <= res.get_id()[1] <= 109 and res.get_resname() not in excluded_residues\n",
    "]"
   ]
  },
  {
   "cell_type": "code",
   "execution_count": 80,
   "id": "5384921b-d1e1-4385-89af-8dddc35ce804",
   "metadata": {},
   "outputs": [],
   "source": [
    "# === 4. Confirm matching residues ===\n",
    "for exp_res, pred_res in zip(exp_residues, pred_residues):\n",
    "    exp_id = exp_res.get_id()[1]\n",
    "    pred_id = pred_res.get_id()[1]\n",
    "    if exp_id != pred_id:\n",
    "        print(f\"Residue mismatch: Experimental {exp_id} vs Predicted {pred_id}\")\n",
    "    if exp_res != pred_res:\n",
    "        print(f\" Residue mismatch {exp_res} vs {pred_res}\")"
   ]
  },
  {
   "cell_type": "code",
   "execution_count": 81,
   "id": "4b2a3a5e-9d39-470c-ad93-2315db6f431c",
   "metadata": {},
   "outputs": [],
   "source": [
    "# === 5. Collect CA (C_alpha) atoms for alignment ===\n",
    "ref_atoms = []\n",
    "mov_atoms = []\n",
    "aligned_residues = []\n",
    "for exp_res, pred_res in zip(exp_residues, pred_residues):\n",
    "    try:\n",
    "        ref_atoms.append(exp_res['CA'])\n",
    "        mov_atoms.append(pred_res['CA'])\n",
    "        aligned_residues.append(exp_res.get_id()[1])\n",
    "    except KeyError:\n",
    "        print(f\"Missing CA in residue {exp_res.get_id()[1]} — skipping.\")"
   ]
  },
  {
   "cell_type": "markdown",
   "id": "251566a2-d61c-4df7-b5da-7733e460f8ef",
   "metadata": {},
   "source": [
    "Next, apply the computed transformation (rotation and translation) to all atoms in the predicted structure, including both CA and the ligand YQG."
   ]
  },
  {
   "cell_type": "code",
   "execution_count": 82,
   "id": "926bbab1-d9a6-41d3-9bc1-eb2ca708a7a4",
   "metadata": {},
   "outputs": [
    {
     "name": "stdout",
     "output_type": "stream",
     "text": [
      "Alignment complete. RMSD: 1.702 Å\n"
     ]
    }
   ],
   "source": [
    "# === 6. Align ===\n",
    "# Calculates the optimal rotation and translation \n",
    "# (using the Kabsch algorithm)\n",
    "# to superimpose one set of points onto another\n",
    "super_imposer = Superimposer()\n",
    "\n",
    "# Find the rotation matrix and translation vector \n",
    "# that best aligns mov_atoms to ref_atoms.\n",
    "super_imposer.set_atoms(ref_atoms, mov_atoms)\n",
    "\n",
    "# applies the calculated transformation (rotation + translation) \n",
    "# to all atoms in the predicted structure (including CA and YQG).\n",
    "super_imposer.apply(pred_structure.get_atoms())\n",
    "print(f\"Alignment complete. RMSD: {super_imposer.rms:.3f} Å\")"
   ]
  },
  {
   "cell_type": "code",
   "execution_count": 83,
   "id": "896e9b7a-87df-4188-8b91-4a2e5fb1c1a6",
   "metadata": {},
   "outputs": [
    {
     "name": "stdout",
     "output_type": "stream",
     "text": [
      "Aligned structure saved to '../data/processed/7m41_predicted_aligned.pdb'.\n"
     ]
    }
   ],
   "source": [
    "# === 7. Save the aligned predicted structure ===\n",
    "io = PDBIO()\n",
    "io.set_structure(pred_structure)\n",
    "io.save(\"../data/processed/7m41_predicted_aligned.pdb\")\n",
    "print(\"Aligned structure saved to '../data/processed/7m41_predicted_aligned.pdb'.\")"
   ]
  },
  {
   "cell_type": "code",
   "execution_count": 84,
   "id": "882cb1c5-02e5-4c21-9569-bfef11cdcb1c",
   "metadata": {},
   "outputs": [],
   "source": [
    "# === 8. Calculate per-residue RMSD ===\n",
    "ref_coords = np.array([atom.get_coord() for atom in ref_atoms])\n",
    "mov_coords = np.array([atom.get_coord() for atom in mov_atoms])\n",
    "per_residue_rmsd = np.sqrt(np.sum((ref_coords - mov_coords)**2, axis=1))"
   ]
  },
  {
   "cell_type": "code",
   "execution_count": 85,
   "id": "043f1cdb-9c68-48f2-80f9-ed4ba8400ab6",
   "metadata": {},
   "outputs": [
    {
     "data": {
      "image/png": "[encoded data removed]",
      "text/plain": [
       "<Figure size 800x600 with 1 Axes>"
      ]
     },
     "metadata": {},
     "output_type": "display_data"
    },
    {
     "name": "stdout",
     "output_type": "stream",
     "text": [
      "RMSD plot saved to 'per_residue_rmsd_plot.png'.\n"
     ]
    }
   ],
   "source": [
    "# === 9. Visualize per-residue RMSD ===\n",
    "_ = plt.style.use('ggplot')\n",
    "_ = plt.figure(figsize=(8, 6));\n",
    "_ = plt.plot(\n",
    "    aligned_residues, per_residue_rmsd, marker='o', markersize=5, \n",
    "    linewidth=1.5, color='steelblue');\n",
    "\n",
    "_ = plt.xlabel('Residue Number', fontsize=14);\n",
    "_ = plt.ylabel('Per-Residue RMSD (Å)', fontsize=14);\n",
    "_ = plt.title('Per-Residue RMSD After Alignment', fontsize=16)\n",
    "_ = plt.grid(True, linestyle='--', alpha=0.6);\n",
    "\n",
    "_ = plt.xticks(fontsize=12);\n",
    "_ = plt.yticks(fontsize=12);\n",
    "\n",
    "_ = plt.tight_layout();\n",
    "_ = plt.savefig(\"per_residue_rmsd_plot.png\", dpi=300);\n",
    "_ = plt.show();  # Semicolon suppresses extra outputs"
   ]
  },
  {
   "cell_type": "markdown",
   "id": "89e961c4-0fc4-4f1c-892e-22e58e75e96a",
   "metadata": {},
   "source": [
    "### 9.2 Visualizing of the predicted and experimental structures"
   ]
  },
  {
   "cell_type": "markdown",
   "id": "e88de022-e369-45b0-ab66-78c6478c3b44",
   "metadata": {},
   "source": [
    "As discussed in Section 5.3, AlphaFold 3 stores the pLDDT scores in the B-factor field. When visualizing the predicted structure locally, we color the structure according to these pLDDT scores: regions with high confidence (high pLDDT) are shown in blue, while areas with low confidence (low pLDDT) are shown in red. For comparison, the experimental structure is displayed in grey.\n",
    "\n",
    "However, when running in Colab, NGLView does not render custom color mappings reliably, so we use the default coloring instead.\n",
    "\n",
    "In either case, we can see that the experimental and predicted structures overall align closely, which shows the reliability of the prediction."
   ]
  },
  {
   "cell_type": "code",
   "execution_count": 119,
   "id": "c348173e-918c-48a5-a430-28fc77817919",
   "metadata": {},
   "outputs": [
    {
     "data": {
      "application/vnd.jupyter.widget-view+json": {
       "model_id": "1c66276cdb6241469a63cabbfee2dca1",
       "version_major": 2,
       "version_minor": 0
      },
      "text/plain": [
       "NGLWidget()"
      ]
     },
     "metadata": {},
     "output_type": "display_data"
    }
   ],
   "source": [
    "import nglview as nv\n",
    "\n",
    "# Load the two structures\n",
    "view = nv.NGLWidget()\n",
    "predicted_aligned_file = \"../data/processed/7m41_predicted_aligned.pdb\"\n",
    "experiment_file = \"../data/processed/7m41_exp_cleaned.pdb\"\n",
    "\n",
    "# Load the predicted structure\n",
    "_ = view.add_component(experiment_file)\n",
    "view.clear_representations(component=0)\n",
    "_ = view.add_component(predicted_aligned_file)\n",
    "view.clear_representations(component=1)\n",
    "\n",
    "if IN_COLAB:\n",
    "    # experimental structure\n",
    "    view.add_representation('cartoon', selection='protein', component=0)\n",
    "    view.add_representation('licorice', selection='YQG', component=0)\n",
    "    # predicted structure\n",
    "    view.add_representation('cartoon', selection='protein', component=1)\n",
    "    view.add_representation('licorice', selection='YQG', component=1)\n",
    "    print(\"\\n Note: The figure uses the default rendering colors provided by NGLView in Colab.\")\n",
    "else:\n",
    "    # experimental structure\n",
    "    view.add_representation('cartoon', selection='protein', color='grey', component=0)\n",
    "    view.add_representation('licorice', selection='YQG', color='grey', component=0)\n",
    "    # predicted structure\n",
    "    view.add_representation('cartoon', selection='protein', color='bfactor', component=1)\n",
    "    view.add_representation('licorice', selection='YQG', color='bfactor', component=1)\n",
    "\n",
    "# Display the view\n",
    "view"
   ]
  },
  {
   "cell_type": "markdown",
   "id": "e44e2be7-01f2-4469-8860-3a54bb7ae38d",
   "metadata": {},
   "source": [
    "You can rotate the figure and zoom in to explore different 3D views of the protein–ligand complex with your mouse. "
   ]
  },
  {
   "cell_type": "markdown",
   "id": "40ac0082-65e6-40bc-a968-c9b60628aebf",
   "metadata": {},
   "source": [
    "Below, we’ve included an image generated by running the notebook locally."
   ]
  },
  {
   "cell_type": "markdown",
   "id": "93d80e87-3e1d-4713-bc2c-964c03a9e2a1",
   "metadata": {},
   "source": [
    "<div align=\"center\">\n",
    "<img src=\"../images/3D_image.png\" width=\"500\">\n",
    "</div>"
   ]
  },
  {
   "cell_type": "markdown",
   "id": "2446613c-a342-4766-ad8c-042cadd81d62",
   "metadata": {},
   "source": [
    "The AlphaFold 3 prediction aligns closely with the experimental structure, which is shown in gray. In the prediction, blue coloring highlights regions of high confidence. However, the ligand appears red in the visualization, indicating a lower pLDDT confidence score. This suggests that AlphaFold 3 is less certain about the exact position and orientation of the ligand, which is common since predicting ligand positions tends to be more challenging than modeling the protein backbone."
   ]
  },
  {
   "cell_type": "markdown",
   "id": "b11d1436-e58c-4dad-b4a3-5dd66705f3a6",
   "metadata": {},
   "source": [
    "## 10. Conclusion\n",
    "\n",
    "This tutorial provided a guide to preparing, visualizing, and interpreting AlphaFold 3 predictions, with a particular focus on protein–ligand complexes like 7M41. We explained pLDDT (Predicted Local Distance Difference Test) as a measure of local atomic confidence, and PAE (Predicted Aligned Error) as a crucial indicator of the model’s expected deviation between any pair of residues or individual atoms. By analyzing and plotting these scores, we effectively identified regions within the prediction that carry higher uncertainty.\n",
    "\n",
    "Utilizing the power of MDAnalysis and NGLView, we created 3D visualizations of the predicted structures. These visualizations were instrumental in highlighting both highly confident and less certain regions, allowing for precise identification of areas that may necessitate additional experimental validation or computational refinement.\n",
    "\n",
    "In an upcoming tutorial, we will demonstrate how to leverage these AlphaFold 3 predictions as an excellent foundation for more in-depth smina docking studies, aiming to further refine ligand positions and optimize binding poses."
   ]
  }
 ],
 "metadata": {
  "kernelspec": {
   "display_name": "alphafold3",
   "language": "python",
   "name": "alphafold3"
  },
  "language_info": {
   "codemirror_mode": {
    "name": "ipython",
    "version": 3
   },
   "file_extension": ".py",
   "mimetype": "text/x-python",
   "name": "python",
   "nbconvert_exporter": "python",
   "pygments_lexer": "ipython3",
   "version": "3.12.0"
  }
 },
 "nbformat": 4,
 "nbformat_minor": 5
}
